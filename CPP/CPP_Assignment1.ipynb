{
  "metadata": {
    "kernelspec": {
      "name": "python",
      "display_name": "Python (Pyodide)",
      "language": "python"
    },
    "language_info": {
      "codemirror_mode": {
        "name": "python",
        "version": 3
      },
      "file_extension": ".py",
      "mimetype": "text/x-python",
      "name": "python",
      "nbconvert_exporter": "python",
      "pygments_lexer": "ipython3",
      "version": "3.8"
    }
  },
  "nbformat_minor": 5,
  "nbformat": 4,
  "cells": [
    {
      "id": "ee6721af-e006-437d-9414-f24bf89a0c0e",
      "cell_type": "markdown",
      "source": "# Q1) Write a Python program to get a list, sorted in increasing order by the last element in each tuple from a given list of non-empty tuples.",
      "metadata": {}
    },
    {
      "id": "f907da14-b147-4ee5-83fe-ab8d7e72ee30",
      "cell_type": "code",
      "source": "sample_list = [(2, 5), (1, 2), (4, 4), (2, 3), (2, 1)]",
      "metadata": {
        "trusted": true
      },
      "outputs": [],
      "execution_count": 21
    },
    {
      "id": "746050ed-67b6-4171-9dee-8817e85a8458",
      "cell_type": "code",
      "source": "sorted_list = sorted(sample_list, key = lambda item: item[-1])",
      "metadata": {
        "trusted": true
      },
      "outputs": [],
      "execution_count": 22
    },
    {
      "id": "f6f695f4-a4bb-4ae0-b8a5-c696b90ca0da",
      "cell_type": "code",
      "source": "print(sorted_list)",
      "metadata": {
        "trusted": true
      },
      "outputs": [
        {
          "name": "stdout",
          "output_type": "stream",
          "text": "[(2, 1), (1, 2), (2, 3), (4, 4), (2, 5)]\n"
        }
      ],
      "execution_count": 23
    },
    {
      "id": "bf00126b-b25b-4a60-bacc-a67752ec5f0b",
      "cell_type": "markdown",
      "source": "# Q2) Write a Python program to get a string from a given string where all occurrences of its first char have been changed to '$', except the first char itself. Sample String : 'restart'",
      "metadata": {}
    },
    {
      "id": "8b151ff7-e1ee-41d9-af95-b1facba30c68",
      "cell_type": "code",
      "source": "def replace_char(inputString):\n    firstChar = inputString[0]\n    updatedString = firstChar + inputString[1:].replace(firstChar, '$')\n    return updatedString",
      "metadata": {
        "trusted": true
      },
      "outputs": [],
      "execution_count": 28
    },
    {
      "id": "9add26a6-e992-40c2-8892-794f24d4b388",
      "cell_type": "code",
      "source": "inputString = \"restart\"\noutputString = replace_char(inputString)\nprint(outputString)",
      "metadata": {
        "trusted": true
      },
      "outputs": [
        {
          "name": "stdout",
          "output_type": "stream",
          "text": "resta$t\n"
        }
      ],
      "execution_count": 30
    },
    {
      "id": "04c76401-c9f6-4307-b89e-edcd4c4c90a7",
      "cell_type": "markdown",
      "source": "# Q3) Write a Python program to find the first appearance of the substring 'not' and 'poor' from a given string, if 'bad' follows the 'poor', replace the whole 'not'...'poor' substring with 'good'. Return the resulting string.",
      "metadata": {}
    },
    {
      "id": "e6cec332-d381-44c9-98e7-1d70a7d04080",
      "cell_type": "code",
      "source": "test_str = \"The lyrics is not that poor!\"",
      "metadata": {
        "trusted": true
      },
      "outputs": [],
      "execution_count": 31
    },
    {
      "id": "06d72a5e-f275-4014-8ee9-415353c9182b",
      "cell_type": "code",
      "source": "def replace_not_poor(string):\n    notIdx = string.find(\"not\")\n    poorIdx = string.find(\"poor\")\n    if notIdx != -1 and poorIdx != -1 and poorIdx > notIdx:\n        return string[:notIdx] + \"good\" + string[poorIdx+4:]\n    else:\n        return string",
      "metadata": {
        "trusted": true
      },
      "outputs": [],
      "execution_count": 38
    },
    {
      "id": "9a675f95-8b98-4ee1-b05b-2ac218eca41f",
      "cell_type": "code",
      "source": "print(replace_not_poor(test_str))",
      "metadata": {
        "trusted": true
      },
      "outputs": [
        {
          "name": "stdout",
          "output_type": "stream",
          "text": "The lyrics is good!\n"
        }
      ],
      "execution_count": 39
    },
    {
      "id": "14753a74-c449-4ba0-be5c-f6ad54306c92",
      "cell_type": "markdown",
      "source": "# Q4) Write a python program to sort a dictionary by value.",
      "metadata": {}
    },
    {
      "id": "d4d72427-7dd8-4f19-9b41-35cbef69378c",
      "cell_type": "code",
      "source": "d = {'Siddharth': 10, 'Rohan': 9, 'Harsha': 15}",
      "metadata": {
        "trusted": true
      },
      "outputs": [],
      "execution_count": 16
    },
    {
      "id": "0b62d06b-380f-40c5-928b-bc6375861471",
      "cell_type": "code",
      "source": "sorted_d_asc = dict(sorted(d.items(), key = lambda item: item[1]))",
      "metadata": {
        "trusted": true
      },
      "outputs": [],
      "execution_count": 17
    },
    {
      "id": "6e6f4da0-2cd8-45b2-9539-6ac201872961",
      "cell_type": "code",
      "source": "sorted_d_desc = dict(sorted(d.items(), key = lambda item: item[1], reverse = True))",
      "metadata": {
        "trusted": true
      },
      "outputs": [],
      "execution_count": 18
    },
    {
      "id": "d36a9e96-f399-4ccb-8aec-3ab0403bd4cc",
      "cell_type": "code",
      "source": "print(sorted_d_asc)",
      "metadata": {
        "trusted": true
      },
      "outputs": [
        {
          "name": "stdout",
          "output_type": "stream",
          "text": "{'Rohan': 9, 'Siddharth': 10, 'Harsha': 15}\n"
        }
      ],
      "execution_count": 19
    },
    {
      "id": "3cd7ffef-1d44-405f-8560-c35f2dc3d06a",
      "cell_type": "code",
      "source": "print(sorted_d_desc)",
      "metadata": {
        "trusted": true
      },
      "outputs": [
        {
          "name": "stdout",
          "output_type": "stream",
          "text": "{'Harsha': 15, 'Siddharth': 10, 'Rohan': 9}\n"
        }
      ],
      "execution_count": 20
    },
    {
      "id": "cd453ddc-0555-48ba-a67e-1c86efd6f1aa",
      "cell_type": "markdown",
      "source": "# Q5) Write a python program to add a key to a dictionary.",
      "metadata": {}
    },
    {
      "id": "cff08ddd-f531-4cdb-bf8f-6a402bc74948",
      "cell_type": "code",
      "source": "data_dict = {\n'name':['Siddharth', 'Rohan', 'Harsha', 'Kaavya'],\n'age':[24,25,23,22]\n}",
      "metadata": {
        "trusted": true
      },
      "outputs": [],
      "execution_count": 1
    },
    {
      "id": "3cb872ac-0e73-47a9-bb2a-548ccee9fc85",
      "cell_type": "code",
      "source": "gender = ['M','M','M','F']",
      "metadata": {
        "trusted": true
      },
      "outputs": [],
      "execution_count": 2
    },
    {
      "id": "6a749eca-48ea-4d19-be88-5a3b7211c608",
      "cell_type": "code",
      "source": "data_dict['gender'] = gender",
      "metadata": {
        "trusted": true
      },
      "outputs": [],
      "execution_count": 3
    },
    {
      "id": "21f494cc-c8bf-4e63-b852-01fcbdbff17d",
      "cell_type": "code",
      "source": "print(data_dict)",
      "metadata": {
        "trusted": true
      },
      "outputs": [
        {
          "name": "stdout",
          "output_type": "stream",
          "text": "{'name': ['Siddharth', 'Rohan', 'Harsha', 'Kaavya'], 'age': [24, 25, 23, 22], 'gender': ['M', 'M', 'M', 'F']}\n"
        }
      ],
      "execution_count": 4
    }
  ]
}