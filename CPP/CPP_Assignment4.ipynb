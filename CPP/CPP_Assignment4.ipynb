{
  "nbformat": 4,
  "nbformat_minor": 0,
  "metadata": {
    "colab": {
      "provenance": []
    },
    "kernelspec": {
      "name": "python3",
      "display_name": "Python 3"
    },
    "language_info": {
      "name": "python"
    }
  },
  "cells": [
    {
      "cell_type": "markdown",
      "source": [
        "# Computer Programming with Python - Assignment 4\n",
        "Done by: Siddharth Sudhakar (25901335)"
      ],
      "metadata": {
        "id": "Cj_P48buE6Th"
      }
    },
    {
      "cell_type": "markdown",
      "source": [
        "## Question 1\n",
        "Write a Python function find_smallest_multiple(n: int) that uses a while loop to find the smallest positive integer x such that x is divisible by all numbers from 1 to n.\n",
        "Conditions:\n",
        "* The function should keep incrementing x by 1 until it finds a number that satisfies the condition.\n",
        "* Your solution should handle the edge case where n = 1 efficiently, returning 1 directly since 1 is divisible by itself."
      ],
      "metadata": {
        "id": "Hqlkbw7DFGHb"
      }
    },
    {
      "cell_type": "code",
      "execution_count": 1,
      "metadata": {
        "id": "ieEiN7aTE1ke"
      },
      "outputs": [],
      "source": [
        "def find_smallest_multiple(n):\n",
        "  if n == 1:\n",
        "    return 1\n",
        "  x = n\n",
        "\n",
        "  while True:\n",
        "    divisible_by_all = True\n",
        "    for i in range(1, n + 1):\n",
        "      if x % i != 0:\n",
        "        divisible_by_all = False\n",
        "        break\n",
        "    if divisible_by_all:\n",
        "      return x\n",
        "    x += 1"
      ]
    },
    {
      "cell_type": "code",
      "source": [
        "print(find_smallest_multiple(5))"
      ],
      "metadata": {
        "colab": {
          "base_uri": "https://localhost:8080/"
        },
        "id": "-N1aiAoUMOyA",
        "outputId": "1bf608dc-bbe6-4281-c1a2-19a2b9c2c3d1"
      },
      "execution_count": 2,
      "outputs": [
        {
          "output_type": "stream",
          "name": "stdout",
          "text": [
            "60\n"
          ]
        }
      ]
    },
    {
      "cell_type": "markdown",
      "source": [
        "## Question 2\n",
        "Write a function cubesum() that accepts an integer and returns the sum of the cubes of individual digits of that number. Use this function to make functions PrintArmstrong() and isArmstrong() to print Armstrong numbers and to find whether is an Armstrong number."
      ],
      "metadata": {
        "id": "frOrlPg6G8rW"
      }
    },
    {
      "cell_type": "code",
      "source": [
        "def cubesum(num):\n",
        "    sum_of_cubes = 0\n",
        "\n",
        "    temp_num = num\n",
        "\n",
        "    while temp_num > 0:\n",
        "        digit = temp_num % 10\n",
        "        sum_of_cubes += digit ** 3\n",
        "        temp_num //= 10\n",
        "\n",
        "    return sum_of_cubes"
      ],
      "metadata": {
        "id": "PCIze1DmG_ll"
      },
      "execution_count": null,
      "outputs": []
    },
    {
      "cell_type": "code",
      "source": [
        "def isArmstrong(num):\n",
        "    # number equals the sum of its digits' cubes\n",
        "    return num == cubesum(num)"
      ],
      "metadata": {
        "id": "-16G7grlHkND"
      },
      "execution_count": null,
      "outputs": []
    },
    {
      "cell_type": "code",
      "source": [
        "def PrintArmstrong(limit):\n",
        "    print(f\"Armstrong numbers up to {limit}:\")\n",
        "    found_any = False\n",
        "    for i in range(1, limit + 1):\n",
        "        if isArmstrong(i):\n",
        "            print(i)\n",
        "            found_any = True\n",
        "    if not found_any:\n",
        "        print(f\"No Armstrong numbers found up to {limit}.\")"
      ],
      "metadata": {
        "id": "Rm3XYxmDHqOV"
      },
      "execution_count": null,
      "outputs": []
    },
    {
      "cell_type": "code",
      "source": [
        "number_to_sum = 153\n",
        "print(f\"The sum of the cubes of digits for {number_to_sum} is: {cubesum(number_to_sum)}\")"
      ],
      "metadata": {
        "colab": {
          "base_uri": "https://localhost:8080/"
        },
        "id": "YPd3o__5IGIl",
        "outputId": "577f0ab8-a6ac-44a2-8abc-2192b339eff6"
      },
      "execution_count": null,
      "outputs": [
        {
          "output_type": "stream",
          "name": "stdout",
          "text": [
            "The sum of the cubes of digits for 153 is: 153\n",
            "\n"
          ]
        }
      ]
    },
    {
      "cell_type": "code",
      "source": [
        "armstrong_candidate_1 = 153\n",
        "armstrong_candidate_2 = 99\n",
        "print(f\"Is {armstrong_candidate_1} an Armstrong number? {isArmstrong(armstrong_candidate_1)}\")\n",
        "print(f\"Is {armstrong_candidate_2} an Armstrong number? {isArmstrong(armstrong_candidate_2)}\")"
      ],
      "metadata": {
        "colab": {
          "base_uri": "https://localhost:8080/"
        },
        "id": "M-W-oHT1INoR",
        "outputId": "d487630e-aa4f-4a09-a550-229514084fa8"
      },
      "execution_count": null,
      "outputs": [
        {
          "output_type": "stream",
          "name": "stdout",
          "text": [
            "Is 153 an Armstrong number? True\n",
            "Is 99 an Armstrong number? False\n",
            "\n"
          ]
        }
      ]
    },
    {
      "cell_type": "code",
      "source": [
        "PrintArmstrong(1000)"
      ],
      "metadata": {
        "colab": {
          "base_uri": "https://localhost:8080/"
        },
        "id": "OCeokjaaIUH4",
        "outputId": "7d048142-27b9-4f29-a7ea-09efed49cd59"
      },
      "execution_count": null,
      "outputs": [
        {
          "output_type": "stream",
          "name": "stdout",
          "text": [
            "Armstrong numbers up to 1000:\n",
            "1\n",
            "153\n",
            "370\n",
            "371\n",
            "407\n"
          ]
        }
      ]
    },
    {
      "cell_type": "markdown",
      "source": [
        "## Question 3\n",
        "Why is operator precedence important? Give an example where neglecting precedence changes the result."
      ],
      "metadata": {
        "id": "xbw5zKEDKWjq"
      }
    },
    {
      "cell_type": "markdown",
      "source": [
        "### Answer\n",
        "Operator precedence is a fundamental rule in programming that specifies the order in which different operations are performed in a single expression. It is basically the programming equivalent of BODMAS from math.\n",
        "\n",
        "Its guarantees predictability and correctness. Without a defined order of precedence, an expression like 10 + 5 * 2 could be interpreted in two different ways, leading to two different results. By establishing that certain operators (like multiplication) have higher priority than others (like addition), the language ensures that every expression is evaluated consistently, producing the correct and expected outcome every single time. This eliminates ambiguity and is crucial for writing reliable, bug-free code."
      ],
      "metadata": {
        "id": "KT032mNNK5NV"
      }
    },
    {
      "cell_type": "markdown",
      "source": [
        "### Example"
      ],
      "metadata": {
        "id": "K7y3VrheLT7M"
      }
    },
    {
      "cell_type": "code",
      "source": [
        "result = 10 + 5 * 2"
      ],
      "metadata": {
        "id": "Bvxlne7vKXfF"
      },
      "execution_count": null,
      "outputs": []
    },
    {
      "cell_type": "code",
      "source": [
        "print(result)"
      ],
      "metadata": {
        "colab": {
          "base_uri": "https://localhost:8080/"
        },
        "id": "R7dZs4ZWLZw5",
        "outputId": "0f3f9e35-9bd6-4397-f5ee-0bda423e7397"
      },
      "execution_count": null,
      "outputs": [
        {
          "output_type": "stream",
          "name": "stdout",
          "text": [
            "20\n"
          ]
        }
      ]
    },
    {
      "cell_type": "code",
      "source": [
        "result2 = (10 + 5) * 2 #Forcing to evaluate from left to right using parantheses"
      ],
      "metadata": {
        "id": "72muMgADLgdk"
      },
      "execution_count": null,
      "outputs": []
    },
    {
      "cell_type": "code",
      "source": [
        "print(result2)"
      ],
      "metadata": {
        "colab": {
          "base_uri": "https://localhost:8080/"
        },
        "id": "RPKnkDKGLsfp",
        "outputId": "0c12ae93-49d4-4648-c79a-d1590bb77f24"
      },
      "execution_count": null,
      "outputs": [
        {
          "output_type": "stream",
          "name": "stdout",
          "text": [
            "30\n"
          ]
        }
      ]
    },
    {
      "cell_type": "markdown",
      "source": [
        "NOTE: Here 30 is an incorrect result for that expression and demonstrates why operator precedence is necessary."
      ],
      "metadata": {
        "id": "O9sJyJ6eLxRS"
      }
    },
    {
      "cell_type": "markdown",
      "source": [
        "## Question 4\n",
        "Write a program to input a decimal number and print its equivalent binary, octal, and hexadecimal using operators."
      ],
      "metadata": {
        "id": "p0Dfcwq6KXFE"
      }
    },
    {
      "cell_type": "code",
      "source": [
        "def convert_number(n):\n",
        "    # 0 case\n",
        "    if n == 0:\n",
        "        print(\"Binary: 0\")\n",
        "        print(\"Octal: 0\")\n",
        "        print(\"Hexadecimal: 0\")\n",
        "        return\n",
        "\n",
        "    # Binary\n",
        "    binary = \"\"\n",
        "    temp = n\n",
        "    while temp > 0:\n",
        "        binary = str(temp % 2) + binary\n",
        "        temp //= 2\n",
        "    # Octal\n",
        "    octal = \"\"\n",
        "    temp = n\n",
        "    while temp > 0:\n",
        "        octal = str(temp % 8) + octal\n",
        "        temp //= 8\n",
        "\n",
        "    # Hexadecimal\n",
        "    hex_chars = \"0123456789ABCDEF\"\n",
        "    hexa = \"\"\n",
        "    temp = n\n",
        "    while temp > 0:\n",
        "        hexa = hex_chars[temp % 16] + hexa\n",
        "        temp //= 16\n",
        "\n",
        "    print(\"Binary:\", binary)\n",
        "    print(\"Octal:\", octal)\n",
        "    print(\"Hexadecimal:\", hexa)"
      ],
      "metadata": {
        "id": "zBUtWDcQKX2e"
      },
      "execution_count": 3,
      "outputs": []
    },
    {
      "cell_type": "code",
      "source": [
        "num = int(input(\"Enter a decimal number: \"))\n",
        "print()\n",
        "convert_number(num)"
      ],
      "metadata": {
        "colab": {
          "base_uri": "https://localhost:8080/"
        },
        "id": "I4q-7_qFNO19",
        "outputId": "4c899678-f56c-4d77-872e-2c5eba7dc66c"
      },
      "execution_count": 18,
      "outputs": [
        {
          "output_type": "stream",
          "name": "stdout",
          "text": [
            "Enter a decimal number: 35\n",
            "\n",
            "Binary: 100011\n",
            "Octal: 43\n",
            "Hexadecimal: 23\n"
          ]
        }
      ]
    },
    {
      "cell_type": "markdown",
      "source": [
        "## Question 5\n",
        "Write a Python function to create and print a list where the values are the squares of numbers between 1 and 30 (both included)."
      ],
      "metadata": {
        "id": "OYwyYE6FJbXj"
      }
    },
    {
      "cell_type": "code",
      "source": [
        "def print_squares():\n",
        "  squares_list = []\n",
        "  for i in range(1, 31):\n",
        "    squares_list.append(i * i)\n",
        "  print(squares_list)"
      ],
      "metadata": {
        "id": "dlh7FBUaIWJD"
      },
      "execution_count": null,
      "outputs": []
    },
    {
      "cell_type": "code",
      "source": [
        "print_squares()"
      ],
      "metadata": {
        "colab": {
          "base_uri": "https://localhost:8080/"
        },
        "id": "uEJrX_SDKNvQ",
        "outputId": "f09f21a5-5684-468b-8f73-24a92f807cd1"
      },
      "execution_count": null,
      "outputs": [
        {
          "output_type": "stream",
          "name": "stdout",
          "text": [
            "[1, 4, 9, 16, 25, 36, 49, 64, 81, 100, 121, 144, 169, 196, 225, 256, 289, 324, 361, 400, 441, 484, 529, 576, 625, 676, 729, 784, 841, 900]\n"
          ]
        }
      ]
    },
    {
      "cell_type": "markdown",
      "source": [
        "## Question 6\n",
        "Write a program that takes a sentence as input and counts the frequency of vowels, consonants, digits, and special characters separately"
      ],
      "metadata": {
        "id": "nPph0opEL-4M"
      }
    },
    {
      "cell_type": "code",
      "source": [
        "sentence = input(\"Enter a sentence: \")"
      ],
      "metadata": {
        "id": "Ev4UCvdYKQfV",
        "colab": {
          "base_uri": "https://localhost:8080/"
        },
        "outputId": "8cc6bc64-d2e5-46ca-e3d1-0e4506ed927e"
      },
      "execution_count": 6,
      "outputs": [
        {
          "name": "stdout",
          "output_type": "stream",
          "text": [
            "Enter a sentenceHello I'm Siddharth\n"
          ]
        }
      ]
    },
    {
      "cell_type": "code",
      "source": [
        "vowels = consonants = digits = special_chars = 0\n",
        "vowel_set = \"AEIOUaeiou\""
      ],
      "metadata": {
        "id": "LKMXOMtiN_CL"
      },
      "execution_count": 7,
      "outputs": []
    },
    {
      "cell_type": "code",
      "source": [
        "for c in sentence:\n",
        "  if c.isalpha():\n",
        "    if c in vowel_set:\n",
        "      vowels += 1\n",
        "    else:\n",
        "      consonants += 1\n",
        "  elif c.isdigit():\n",
        "    digits += 1\n",
        "  elif c != \" \":\n",
        "    special_chars += 1"
      ],
      "metadata": {
        "id": "iwEJyhY0OJTO"
      },
      "execution_count": 8,
      "outputs": []
    },
    {
      "cell_type": "code",
      "source": [
        "print(\"Vowels:\", vowels)\n",
        "print(\"Consonants:\", consonants)\n",
        "print(\"Digits:\", digits)\n",
        "print(\"Special characters:\", special_chars)"
      ],
      "metadata": {
        "colab": {
          "base_uri": "https://localhost:8080/"
        },
        "id": "TNOEOVBnOXLG",
        "outputId": "c4db3e4e-5bae-4fc6-83d2-e06086cbb74a"
      },
      "execution_count": 9,
      "outputs": [
        {
          "output_type": "stream",
          "name": "stdout",
          "text": [
            "Vowels: 5\n",
            "Consonants: 11\n",
            "Digits: 0\n",
            "Special characters: 1\n"
          ]
        }
      ]
    },
    {
      "cell_type": "markdown",
      "source": [
        "## Question 7\n",
        "Write a Python program to create a dictionary of students’ names as keys and their marks as values.\n",
        "Then:\n",
        "\n",
        "A. Print the student with the highest marks\n",
        "\n",
        "B. Print the student with the lowest marks"
      ],
      "metadata": {
        "id": "kC64UfQsNWNz"
      }
    },
    {
      "cell_type": "code",
      "source": [
        "students = {}\n",
        "n = int(input(\"Enter the number of students: \"))"
      ],
      "metadata": {
        "colab": {
          "base_uri": "https://localhost:8080/"
        },
        "id": "3wqtPF4NNWsC",
        "outputId": "44ae9c78-dbc7-42a4-9cc6-d0a040fcd9cb"
      },
      "execution_count": 13,
      "outputs": [
        {
          "name": "stdout",
          "output_type": "stream",
          "text": [
            "Enter the number of students: 2\n"
          ]
        }
      ]
    },
    {
      "cell_type": "code",
      "source": [
        "for i in range(n):\n",
        "  name = input(f\"Enter the name of student {i + 1}: \")\n",
        "  marks = float(input(f\"Enter the marks of student {i + 1}: \"))\n",
        "  students[name] = marks"
      ],
      "metadata": {
        "colab": {
          "base_uri": "https://localhost:8080/"
        },
        "id": "plUu19hDOiOa",
        "outputId": "945c0cd7-ae67-46ff-da80-ff7389a46018"
      },
      "execution_count": 14,
      "outputs": [
        {
          "name": "stdout",
          "output_type": "stream",
          "text": [
            "Enter the name of student 1: Siddharth\n",
            "Enter the marks of student 1: 100\n",
            "Enter the name of student 2: Rohan\n",
            "Enter the marks of student 2: 90\n"
          ]
        }
      ]
    },
    {
      "cell_type": "code",
      "source": [
        "highest_student = max(students, key=students.get)\n",
        "lowest_student = min(students, key=students.get)"
      ],
      "metadata": {
        "id": "h9cllkIAOuqc"
      },
      "execution_count": 15,
      "outputs": []
    },
    {
      "cell_type": "code",
      "source": [
        "print(\"Student with highest marks: \")\n",
        "print(highest_student, \"=\", students[highest_student])"
      ],
      "metadata": {
        "colab": {
          "base_uri": "https://localhost:8080/"
        },
        "id": "p_seY_xePY4Y",
        "outputId": "c341468a-d9e7-44f2-e490-34725b0d447a"
      },
      "execution_count": 16,
      "outputs": [
        {
          "output_type": "stream",
          "name": "stdout",
          "text": [
            "Student with highest marks: \n",
            "Siddharth = 100.0\n"
          ]
        }
      ]
    },
    {
      "cell_type": "code",
      "source": [
        "print(\"Student with lowest marks:\")\n",
        "print(lowest_student, \"=\", students[lowest_student])"
      ],
      "metadata": {
        "colab": {
          "base_uri": "https://localhost:8080/"
        },
        "id": "3IfL0xXmPelR",
        "outputId": "30436390-a4d6-4235-dff5-b8b3e6940548"
      },
      "execution_count": 17,
      "outputs": [
        {
          "output_type": "stream",
          "name": "stdout",
          "text": [
            "Student with lowest marks:\n",
            "Rohan = 90.0\n"
          ]
        }
      ]
    }
  ]
}