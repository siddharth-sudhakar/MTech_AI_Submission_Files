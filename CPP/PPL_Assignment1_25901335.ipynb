{
 "cells": [
  {
   "cell_type": "markdown",
   "id": "b59500bc",
   "metadata": {},
   "source": [
    "# PPL Assignment 1\n",
    "Done by: Siddharth Sudhakar\n",
    "\n",
    "Roll Number: 25901335\n",
    "\n",
    "MTech Artificial Intelligence"
   ]
  },
  {
   "cell_type": "markdown",
   "id": "4adc3264",
   "metadata": {},
   "source": [
    "GitHub Folder Link: https://github.com/siddharth-sudhakar/MTech_AI_Submission_Files/tree/main/CPP"
   ]
  },
  {
   "cell_type": "markdown",
   "id": "ee6721af-e006-437d-9414-f24bf89a0c0e",
   "metadata": {},
   "source": [
    "## Q1) Write a Python program to get a list, sorted in increasing order by the last element in each tuple from a given list of non-empty tuples."
   ]
  },
  {
   "cell_type": "code",
   "execution_count": 21,
   "id": "f907da14-b147-4ee5-83fe-ab8d7e72ee30",
   "metadata": {},
   "outputs": [],
   "source": [
    "sample_list = [(2, 5), (1, 2), (4, 4), (2, 3), (2, 1)]"
   ]
  },
  {
   "cell_type": "code",
   "execution_count": 22,
   "id": "746050ed-67b6-4171-9dee-8817e85a8458",
   "metadata": {},
   "outputs": [],
   "source": [
    "sorted_list = sorted(sample_list, key = lambda item: item[-1])"
   ]
  },
  {
   "cell_type": "code",
   "execution_count": 23,
   "id": "f6f695f4-a4bb-4ae0-b8a5-c696b90ca0da",
   "metadata": {},
   "outputs": [
    {
     "name": "stdout",
     "output_type": "stream",
     "text": [
      "[(2, 1), (1, 2), (2, 3), (4, 4), (2, 5)]\n"
     ]
    }
   ],
   "source": [
    "print(sorted_list)"
   ]
  },
  {
   "cell_type": "markdown",
   "id": "bf00126b-b25b-4a60-bacc-a67752ec5f0b",
   "metadata": {},
   "source": [
    "## Q2) Write a Python program to get a string from a given string where all occurrences of its first char have been changed to '$', except the first char itself. Sample String : 'restart'"
   ]
  },
  {
   "cell_type": "code",
   "execution_count": 28,
   "id": "8b151ff7-e1ee-41d9-af95-b1facba30c68",
   "metadata": {},
   "outputs": [],
   "source": [
    "def replace_char(inputString):\n",
    "    firstChar = inputString[0]\n",
    "    updatedString = firstChar + inputString[1:].replace(firstChar, '$')\n",
    "    return updatedString"
   ]
  },
  {
   "cell_type": "code",
   "execution_count": 30,
   "id": "9add26a6-e992-40c2-8892-794f24d4b388",
   "metadata": {},
   "outputs": [
    {
     "name": "stdout",
     "output_type": "stream",
     "text": [
      "resta$t\n"
     ]
    }
   ],
   "source": [
    "inputString = \"restart\"\n",
    "outputString = replace_char(inputString)\n",
    "print(outputString)"
   ]
  },
  {
   "cell_type": "markdown",
   "id": "04c76401-c9f6-4307-b89e-edcd4c4c90a7",
   "metadata": {},
   "source": [
    "## Q3) Write a Python program to find the first appearance of the substring 'not' and 'poor' from a given string, if 'bad' follows the 'poor', replace the whole 'not'...'poor' substring with 'good'. Return the resulting string."
   ]
  },
  {
   "cell_type": "code",
   "execution_count": 31,
   "id": "e6cec332-d381-44c9-98e7-1d70a7d04080",
   "metadata": {},
   "outputs": [],
   "source": [
    "test_str = \"The lyrics is not that poor!\""
   ]
  },
  {
   "cell_type": "code",
   "execution_count": 38,
   "id": "06d72a5e-f275-4014-8ee9-415353c9182b",
   "metadata": {},
   "outputs": [],
   "source": [
    "def replace_not_poor(string):\n",
    "    notIdx = string.find(\"not\")\n",
    "    poorIdx = string.find(\"poor\")\n",
    "    if notIdx != -1 and poorIdx != -1 and poorIdx > notIdx:\n",
    "        return string[:notIdx] + \"good\" + string[poorIdx+4:]\n",
    "    else:\n",
    "        return string"
   ]
  },
  {
   "cell_type": "code",
   "execution_count": 39,
   "id": "9a675f95-8b98-4ee1-b05b-2ac218eca41f",
   "metadata": {},
   "outputs": [
    {
     "name": "stdout",
     "output_type": "stream",
     "text": [
      "The lyrics is good!\n"
     ]
    }
   ],
   "source": [
    "print(replace_not_poor(test_str))"
   ]
  },
  {
   "cell_type": "markdown",
   "id": "14753a74-c449-4ba0-be5c-f6ad54306c92",
   "metadata": {},
   "source": [
    "## Q4) Write a python program to sort a dictionary by value."
   ]
  },
  {
   "cell_type": "code",
   "execution_count": 16,
   "id": "d4d72427-7dd8-4f19-9b41-35cbef69378c",
   "metadata": {},
   "outputs": [],
   "source": [
    "d = {'Siddharth': 10, 'Rohan': 9, 'Harsha': 15}"
   ]
  },
  {
   "cell_type": "code",
   "execution_count": 17,
   "id": "0b62d06b-380f-40c5-928b-bc6375861471",
   "metadata": {},
   "outputs": [],
   "source": [
    "sorted_d_asc = dict(sorted(d.items(), key = lambda item: item[1]))"
   ]
  },
  {
   "cell_type": "code",
   "execution_count": 18,
   "id": "6e6f4da0-2cd8-45b2-9539-6ac201872961",
   "metadata": {},
   "outputs": [],
   "source": [
    "sorted_d_desc = dict(sorted(d.items(), key = lambda item: item[1], reverse = True))"
   ]
  },
  {
   "cell_type": "code",
   "execution_count": 19,
   "id": "d36a9e96-f399-4ccb-8aec-3ab0403bd4cc",
   "metadata": {},
   "outputs": [
    {
     "name": "stdout",
     "output_type": "stream",
     "text": [
      "{'Rohan': 9, 'Siddharth': 10, 'Harsha': 15}\n"
     ]
    }
   ],
   "source": [
    "print(sorted_d_asc)"
   ]
  },
  {
   "cell_type": "code",
   "execution_count": 20,
   "id": "3cd7ffef-1d44-405f-8560-c35f2dc3d06a",
   "metadata": {},
   "outputs": [
    {
     "name": "stdout",
     "output_type": "stream",
     "text": [
      "{'Harsha': 15, 'Siddharth': 10, 'Rohan': 9}\n"
     ]
    }
   ],
   "source": [
    "print(sorted_d_desc)"
   ]
  },
  {
   "cell_type": "markdown",
   "id": "cd453ddc-0555-48ba-a67e-1c86efd6f1aa",
   "metadata": {},
   "source": [
    "## Q5) Write a python program to add a key to a dictionary."
   ]
  },
  {
   "cell_type": "code",
   "execution_count": 1,
   "id": "cff08ddd-f531-4cdb-bf8f-6a402bc74948",
   "metadata": {},
   "outputs": [],
   "source": [
    "data_dict = {\n",
    "'name':['Siddharth', 'Rohan', 'Harsha', 'Kaavya'],\n",
    "'age':[24,25,23,22]\n",
    "}"
   ]
  },
  {
   "cell_type": "code",
   "execution_count": 2,
   "id": "3cb872ac-0e73-47a9-bb2a-548ccee9fc85",
   "metadata": {},
   "outputs": [],
   "source": [
    "gender = ['M','M','M','F']"
   ]
  },
  {
   "cell_type": "code",
   "execution_count": 3,
   "id": "6a749eca-48ea-4d19-be88-5a3b7211c608",
   "metadata": {},
   "outputs": [],
   "source": [
    "data_dict['gender'] = gender"
   ]
  },
  {
   "cell_type": "code",
   "execution_count": 4,
   "id": "21f494cc-c8bf-4e63-b852-01fcbdbff17d",
   "metadata": {},
   "outputs": [
    {
     "name": "stdout",
     "output_type": "stream",
     "text": [
      "{'name': ['Siddharth', 'Rohan', 'Harsha', 'Kaavya'], 'age': [24, 25, 23, 22], 'gender': ['M', 'M', 'M', 'F']}\n"
     ]
    }
   ],
   "source": [
    "print(data_dict)"
   ]
  }
 ],
 "metadata": {
  "kernelspec": {
   "display_name": "Python 3 (ipykernel)",
   "language": "python",
   "name": "python3"
  },
  "language_info": {
   "codemirror_mode": {
    "name": "ipython",
    "version": 3
   },
   "file_extension": ".py",
   "mimetype": "text/x-python",
   "name": "python",
   "nbconvert_exporter": "python",
   "pygments_lexer": "ipython3",
   "version": "3.12.3"
  }
 },
 "nbformat": 4,
 "nbformat_minor": 5
}
