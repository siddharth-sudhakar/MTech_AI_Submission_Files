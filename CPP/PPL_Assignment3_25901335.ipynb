{
  "nbformat": 4,
  "nbformat_minor": 0,
  "metadata": {
    "colab": {
      "provenance": [],
      "toc_visible": true
    },
    "kernelspec": {
      "name": "python3",
      "display_name": "Python 3"
    },
    "language_info": {
      "name": "python"
    }
  },
  "cells": [
    {
      "cell_type": "markdown",
      "source": [
        "# **PPL Assignment 3**\n",
        "\n",
        "Done by:\n",
        "Siddharth Sudhakar\n",
        "\n",
        "Roll Number:\n",
        "25901335\n",
        "\n",
        "MTech Artificial Intelligence"
      ],
      "metadata": {
        "id": "cxAgJgqvQ9LS"
      }
    },
    {
      "cell_type": "markdown",
      "source": [
        "# Q1) Generate all prime numbers less than 100. Print them in a spiral format (like a clockwise square spiral) of minimal size that fits all primes."
      ],
      "metadata": {
        "id": "RmwaQjEPTMIy"
      }
    },
    {
      "cell_type": "code",
      "source": [
        "import math\n",
        "import pandas as pd"
      ],
      "metadata": {
        "id": "-FCaBGNvTcJz"
      },
      "execution_count": 14,
      "outputs": []
    },
    {
      "cell_type": "code",
      "source": [
        "primes = []\n",
        "for num in range(2, 100):\n",
        "    is_prime = True\n",
        "    for i in range(2, num):\n",
        "        if num % i == 0:\n",
        "            is_prime = False\n",
        "            break\n",
        "    if is_prime:\n",
        "        primes.append(num)"
      ],
      "metadata": {
        "id": "fDDVzFHvTkEk"
      },
      "execution_count": 15,
      "outputs": []
    },
    {
      "cell_type": "code",
      "source": [
        "n = 1\n",
        "while n * n < len(primes):\n",
        "    n += 2  # keep odd"
      ],
      "metadata": {
        "id": "722X_heWVDxa"
      },
      "execution_count": 16,
      "outputs": []
    },
    {
      "cell_type": "code",
      "source": [
        "grid = [[0 for _ in range(n)] for _ in range(n)]\n",
        "r = c = n // 2   # start at center\n",
        "directions = [(0,1),(1,0),(0,-1),(-1,0)]  # right, down, left, up\n",
        "step = 1\n",
        "idx = 0"
      ],
      "metadata": {
        "id": "f8Z6pVm4VDiD"
      },
      "execution_count": 17,
      "outputs": []
    },
    {
      "cell_type": "code",
      "source": [
        "grid[r][c] = primes[idx]\n",
        "idx += 1\n",
        "\n",
        "while idx < len(primes):\n",
        "    for d in range(4):   # 4 directions\n",
        "        dr, dc = directions[d]\n",
        "        for _ in range(step):\n",
        "            if idx >= len(primes): break\n",
        "            r += dr\n",
        "            c += dc\n",
        "            grid[r][c] = primes[idx]\n",
        "            idx += 1\n",
        "        if d % 2 == 1:   # after down and up, step increases\n",
        "            step += 1\n",
        "        if idx >= len(primes): break"
      ],
      "metadata": {
        "id": "CLyBrWDvVLd3"
      },
      "execution_count": 18,
      "outputs": []
    },
    {
      "cell_type": "code",
      "source": [
        "for row in grid:\n",
        "    for val in row:\n",
        "        if val == 0:\n",
        "            print(\"  \", end=\"\\t\")\n",
        "        else:\n",
        "            print(val, end=\"\\t\")\n",
        "    print()"
      ],
      "metadata": {
        "colab": {
          "base_uri": "https://localhost:8080/"
        },
        "id": "CnlnnaXsVQBd",
        "outputId": "1ac2a731-ddbf-4157-defb-d949d6e8f1cd"
      },
      "execution_count": 19,
      "outputs": [
        {
          "output_type": "stream",
          "name": "stdout",
          "text": [
            "73\t79\t83\t89\t97\t\n",
            "71\t17\t19\t23\t29\t\n",
            "67\t13\t2\t3\t31\t\n",
            "61\t11\t7\t5\t37\t\n",
            "59\t53\t47\t43\t41\t\n"
          ]
        }
      ]
    },
    {
      "cell_type": "markdown",
      "source": [
        "# Q2) You are a data analyst at a streaming platform, managing user interactions, analytics, and daily operations. Use a for loop to create a text-based graph of hourly views. For example, use * to represent every 5 views."
      ],
      "metadata": {
        "id": "qlDdpAL3RWn8"
      }
    },
    {
      "cell_type": "code",
      "execution_count": 1,
      "metadata": {
        "id": "oUA1p11_QFSk"
      },
      "outputs": [],
      "source": [
        "# Sample data\n",
        "hourly_views = [\n",
        "    12, 18, 25, 41, 30, 15, # 00:00 - 05:00\n",
        "    22, 35, 51, 60, 75, 80, # 06:00 - 11:00\n",
        "    90, 88, 76, 62, 55, 40, # 12:00 - 17:00\n",
        "    45, 50, 65, 70, 42, 23  # 18:00 - 23:00\n",
        "]"
      ]
    },
    {
      "cell_type": "code",
      "source": [
        "print(\"Hourly Platform Views (* = 5 views)\")\n",
        "print(\"-\" * 40)\n",
        "\n",
        "for hour, views in enumerate(hourly_views):\n",
        "\n",
        "    # Calculate the number of stars\n",
        "    num_stars = views // 5\n",
        "    bar = \"*\" * num_stars\n",
        "\n",
        "    # Print the graph line\n",
        "    print(f\"Hour {hour:02}:00 | {views:3} views | {bar}\")"
      ],
      "metadata": {
        "colab": {
          "base_uri": "https://localhost:8080/"
        },
        "id": "AbsIYgNTRddp",
        "outputId": "7652bbf3-46fa-46da-a78f-27838e9d21a7"
      },
      "execution_count": 3,
      "outputs": [
        {
          "output_type": "stream",
          "name": "stdout",
          "text": [
            "Hourly Platform Views (* = 5 views)\n",
            "----------------------------------------\n",
            "Hour 00:00 |  12 views | **\n",
            "Hour 01:00 |  18 views | ***\n",
            "Hour 02:00 |  25 views | *****\n",
            "Hour 03:00 |  41 views | ********\n",
            "Hour 04:00 |  30 views | ******\n",
            "Hour 05:00 |  15 views | ***\n",
            "Hour 06:00 |  22 views | ****\n",
            "Hour 07:00 |  35 views | *******\n",
            "Hour 08:00 |  51 views | **********\n",
            "Hour 09:00 |  60 views | ************\n",
            "Hour 10:00 |  75 views | ***************\n",
            "Hour 11:00 |  80 views | ****************\n",
            "Hour 12:00 |  90 views | ******************\n",
            "Hour 13:00 |  88 views | *****************\n",
            "Hour 14:00 |  76 views | ***************\n",
            "Hour 15:00 |  62 views | ************\n",
            "Hour 16:00 |  55 views | ***********\n",
            "Hour 17:00 |  40 views | ********\n",
            "Hour 18:00 |  45 views | *********\n",
            "Hour 19:00 |  50 views | **********\n",
            "Hour 20:00 |  65 views | *************\n",
            "Hour 21:00 |  70 views | **************\n",
            "Hour 22:00 |  42 views | ********\n",
            "Hour 23:00 |  23 views | ****\n"
          ]
        }
      ]
    },
    {
      "cell_type": "markdown",
      "source": [
        "# Q3) Each video watched generates revenue based on ad impressions:\n",
        "#* First 10 views: $0.50 per view\n",
        "\n",
        "#* Next 20 views: $0.30 per view\n",
        "\n",
        "#* Remaining views: $0.10 per view\n",
        "\n",
        "#You are given hourly views for the day. Calculate total daily revenue."
      ],
      "metadata": {
        "id": "SzM1VFSNSdVE"
      }
    },
    {
      "cell_type": "code",
      "source": [
        "def calculate_revenue(views):\n",
        "    revenue = 0.0\n",
        "\n",
        "    if views > 30:\n",
        "        revenue += (views - 30) * 0.10\n",
        "        views = 30\n",
        "\n",
        "    if views > 10:\n",
        "        revenue += (views - 10) * 0.30\n",
        "        views = 10\n",
        "\n",
        "    # Calculate revenue for the first 10 views\n",
        "    revenue += views * 0.50\n",
        "\n",
        "    return revenue"
      ],
      "metadata": {
        "id": "drj2eMgKRnRa"
      },
      "execution_count": 4,
      "outputs": []
    },
    {
      "cell_type": "code",
      "source": [
        "total_daily_views = sum(hourly_views)\n",
        "\n",
        "total_revenue = calculate_revenue(total_daily_views)"
      ],
      "metadata": {
        "id": "EL8X-kg9S8KV"
      },
      "execution_count": 5,
      "outputs": []
    },
    {
      "cell_type": "code",
      "source": [
        "print(f\"Total Daily Views: {total_daily_views}\")\n",
        "print(f\"Total Daily Revenue: ${total_revenue:.2f}\")"
      ],
      "metadata": {
        "colab": {
          "base_uri": "https://localhost:8080/"
        },
        "id": "D0vdYSxETIU8",
        "outputId": "4581c9a9-03f9-4c69-bc29-0518d77be58f"
      },
      "execution_count": 6,
      "outputs": [
        {
          "output_type": "stream",
          "name": "stdout",
          "text": [
            "Total Daily Views: 1170\n",
            "Total Daily Revenue: $125.00\n"
          ]
        }
      ]
    }
  ]
}