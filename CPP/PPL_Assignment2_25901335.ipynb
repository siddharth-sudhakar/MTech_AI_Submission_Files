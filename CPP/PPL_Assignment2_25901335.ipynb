{
 "cells": [
  {
   "cell_type": "markdown",
   "id": "ef41bcf4",
   "metadata": {},
   "source": [
    "# Python Programming Assignment 2\n",
    "## Topic: Decision Control Statements"
   ]
  },
  {
   "cell_type": "markdown",
   "id": "ffe13dbe",
   "metadata": {},
   "source": [
    "Name: Siddharth Sudhakar\n",
    "\n",
    "Roll No.: 25901335"
   ]
  },
  {
   "cell_type": "markdown",
   "id": "f78f3de9",
   "metadata": {},
   "source": [
    "### Question 1: Write a program to check whether a given number is positive, negative, or zero."
   ]
  },
  {
   "cell_type": "code",
   "execution_count": 4,
   "id": "bf6e38d3",
   "metadata": {},
   "outputs": [
    {
     "name": "stdout",
     "output_type": "stream",
     "text": [
      "Enter a number: -5\n",
      "The number is Negative\n"
     ]
    }
   ],
   "source": [
    "n = int(input(\"Enter a number: \"))\n",
    "# Check whether number is greater than 0, less than 0 or equal to 0\n",
    "if n > 0:\n",
    "    print(\"The number is Positive\")\n",
    "elif n < 0:\n",
    "    print(\"The number is Negative\")\n",
    "else:\n",
    "    print(\"The number is Zero\")"
   ]
  },
  {
   "cell_type": "markdown",
   "id": "090d7291",
   "metadata": {},
   "source": [
    "### Question 2: Write a program to check whether a given integer is even or odd."
   ]
  },
  {
   "cell_type": "code",
   "execution_count": 20,
   "id": "600b5576",
   "metadata": {},
   "outputs": [
    {
     "name": "stdout",
     "output_type": "stream",
     "text": [
      "Enter an integer: 5\n"
     ]
    }
   ],
   "source": [
    "n = int(input(\"Enter an integer: \"))"
   ]
  },
  {
   "cell_type": "code",
   "execution_count": 21,
   "id": "9c866170",
   "metadata": {},
   "outputs": [
    {
     "name": "stdout",
     "output_type": "stream",
     "text": [
      "Odd number\n"
     ]
    }
   ],
   "source": [
    "if n % 2 == 0:\n",
    "    print(\"Even number\") # even numbers are divisible by 2\n",
    "else:\n",
    "    print(\"Odd number\") # odd numbers are not divisible by 2"
   ]
  },
  {
   "cell_type": "markdown",
   "id": "9b1690e9",
   "metadata": {},
   "source": [
    "### Question 3: Write a program to input two numbers and print which one is larger."
   ]
  },
  {
   "cell_type": "code",
   "execution_count": 22,
   "id": "083a3c60",
   "metadata": {},
   "outputs": [
    {
     "name": "stdout",
     "output_type": "stream",
     "text": [
      "Enter first number: 4\n",
      "Enter second number: 5\n"
     ]
    }
   ],
   "source": [
    "a = int(input(\"Enter first number: \"))\n",
    "b = int(input(\"Enter second number: \"))"
   ]
  },
  {
   "cell_type": "code",
   "execution_count": 23,
   "id": "762cb7db",
   "metadata": {},
   "outputs": [
    {
     "name": "stdout",
     "output_type": "stream",
     "text": [
      "5 is larger\n"
     ]
    }
   ],
   "source": [
    "# compare both numbers and print the larger one (also handle\n",
    "# the case where they're equal)\n",
    "if a > b:\n",
    "    print(a, \"is larger\")\n",
    "elif b > a:\n",
    "    print(b, \"is larger\")\n",
    "else:\n",
    "    print(\"Both numbers are equal\")"
   ]
  },
  {
   "cell_type": "markdown",
   "id": "aad1da62",
   "metadata": {},
   "source": [
    "### Question 4: Write a program to find the absolute value of a given number without using the abs()"
   ]
  },
  {
   "cell_type": "code",
   "execution_count": 16,
   "id": "9ae25d6a",
   "metadata": {},
   "outputs": [
    {
     "name": "stdout",
     "output_type": "stream",
     "text": [
      "Enter a number: -2\n",
      "Absolute value is: 2\n"
     ]
    }
   ],
   "source": [
    "n = int(input(\"Enter a number: \"))\n",
    "\n",
    "if n < 0:\n",
    "    print(\"Absolute value is:\", -n)\n",
    "else:\n",
    "    print(\"Absolute value is:\", n)"
   ]
  },
  {
   "cell_type": "markdown",
   "id": "3ce49f85",
   "metadata": {},
   "source": [
    "### Question 5: Write a program to check whether a person is eligible to vote or not."
   ]
  },
  {
   "cell_type": "code",
   "execution_count": 14,
   "id": "c2689611",
   "metadata": {},
   "outputs": [
    {
     "name": "stdout",
     "output_type": "stream",
     "text": [
      "Enter your age: 18\n",
      "You are eligible to vote.\n"
     ]
    }
   ],
   "source": [
    "age = int(input(\"Enter your age: \"))\n",
    "\n",
    "if age >= 18: # person can vote only if age >= 18\n",
    "    print(\"You are eligible to vote.\")\n",
    "else:\n",
    "    print(\"You are not eligible to vote\")"
   ]
  },
  {
   "cell_type": "markdown",
   "id": "43ac5d65",
   "metadata": {},
   "source": [
    "### Question 6: Write a program to check whether a given year is a leap year or not."
   ]
  },
  {
   "cell_type": "code",
   "execution_count": 18,
   "id": "d0ceb797",
   "metadata": {},
   "outputs": [
    {
     "name": "stdout",
     "output_type": "stream",
     "text": [
      "Enter a year: 2000\n"
     ]
    }
   ],
   "source": [
    "year = int(input(\"Enter a year: \"))"
   ]
  },
  {
   "cell_type": "code",
   "execution_count": 19,
   "id": "da6accf1",
   "metadata": {},
   "outputs": [
    {
     "name": "stdout",
     "output_type": "stream",
     "text": [
      "2000 is a leap year.\n"
     ]
    }
   ],
   "source": [
    "# leap year rule used: divisible by 4, not by 100 unless also divisible by 400\n",
    "if (year % 4 == 0 and year % 100 != 0) or (year % 400 == 0):\n",
    "    print(year, \"is a leap year.\")\n",
    "else:\n",
    "    print(year, \"is not a leap year.\")"
   ]
  },
  {
   "cell_type": "markdown",
   "id": "f9301d9e",
   "metadata": {},
   "source": [
    "### Question 7: Write a program that takes marks as input and prints:\n",
    "- 'Pass' if marks are 40 or above\n",
    "- 'Fail' if marks are less than 40"
   ]
  },
  {
   "cell_type": "code",
   "execution_count": null,
   "id": "4d05c531",
   "metadata": {},
   "outputs": [],
   "source": [
    "marks = int(input(\"Enter marks: \"))\n",
    "\n",
    "\n",
    "if marks >= 40:\n",
    "    print(\"Pass!\")\n",
    "else:\n",
    "    print(\"Fail.\")"
   ]
  },
  {
   "cell_type": "markdown",
   "id": "6ca7e735",
   "metadata": {},
   "source": [
    "### Question 8: Write a program to check whether a given number is a multiple of 5."
   ]
  },
  {
   "cell_type": "code",
   "execution_count": 26,
   "id": "0a71c8b0",
   "metadata": {},
   "outputs": [
    {
     "name": "stdout",
     "output_type": "stream",
     "text": [
      "Enter a number: 15\n"
     ]
    }
   ],
   "source": [
    "n = int(input(\"Enter a number: \"))"
   ]
  },
  {
   "cell_type": "code",
   "execution_count": 27,
   "id": "b618ca2d",
   "metadata": {},
   "outputs": [
    {
     "name": "stdout",
     "output_type": "stream",
     "text": [
      "15 is a multiple of 5.\n"
     ]
    }
   ],
   "source": [
    "# check remainder when dividing by 5\n",
    "if n% 5 == 0:\n",
    "    print(n, \"is a multiple of 5.\")\n",
    "else:\n",
    "    print(n, \"is not a multiple of 5.\")"
   ]
  },
  {
   "cell_type": "markdown",
   "id": "2efd6546",
   "metadata": {},
   "source": [
    "### Question 9: Write a program to input a character and check whether it is an uppercase letter, lowercase letter, or not a letter."
   ]
  },
  {
   "cell_type": "code",
   "execution_count": 28,
   "id": "7ffaa854",
   "metadata": {},
   "outputs": [
    {
     "name": "stdout",
     "output_type": "stream",
     "text": [
      "Enter a character: a\n",
      "Lowercase letter\n"
     ]
    }
   ],
   "source": [
    "ch = input(\"Enter a character: \")\n",
    "\n",
    "\n",
    "# check ASCII ranges for uppercase and lowercase letters\n",
    "if 'A' <= ch <= 'Z':\n",
    "    print(\"Uppercase letter\")\n",
    "elif 'a' <= ch <= 'z':\n",
    "    print(\"Lowercase letter\")\n",
    "else:\n",
    "    print(\"Not a letter\")\n",
    "    "
   ]
  },
  {
   "cell_type": "markdown",
   "id": "815e4f6a",
   "metadata": {},
   "source": [
    "### Question 10: Write a program that calculates the discount:\n",
    "- If purchase amount is greater than or equal to 1000, apply a 10% discount.\n",
    "- Otherwise, no discount.\n",
    "Finally, print the final bill amount."
   ]
  },
  {
   "cell_type": "code",
   "execution_count": 29,
   "id": "71dc7910",
   "metadata": {},
   "outputs": [
    {
     "name": "stdout",
     "output_type": "stream",
     "text": [
      "Enter purchase amount: 1200\n"
     ]
    }
   ],
   "source": [
    "amt = float(input(\"Enter purchase amount: \"))"
   ]
  },
  {
   "cell_type": "code",
   "execution_count": 30,
   "id": "af5d89bc",
   "metadata": {},
   "outputs": [
    {
     "name": "stdout",
     "output_type": "stream",
     "text": [
      "Discount applied! Final amount: 1080.0\n"
     ]
    }
   ],
   "source": [
    "# if bill is 1000 or more, give 10% discount\n",
    "if amt >= 1000:\n",
    "    discount = amt * 0.10\n",
    "    final = amt - discount\n",
    "    print(\"Discount applied! Final amount:\", final)\n",
    "else:\n",
    "    print(\"No discount. Final amount:\", amount)"
   ]
  }
 ],
 "metadata": {
  "kernelspec": {
   "display_name": "Python 3 (ipykernel)",
   "language": "python",
   "name": "python3"
  },
  "language_info": {
   "codemirror_mode": {
    "name": "ipython",
    "version": 3
   },
   "file_extension": ".py",
   "mimetype": "text/x-python",
   "name": "python",
   "nbconvert_exporter": "python",
   "pygments_lexer": "ipython3",
   "version": "3.12.3"
  }
 },
 "nbformat": 4,
 "nbformat_minor": 5
}
