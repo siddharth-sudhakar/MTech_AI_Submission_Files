{
  "nbformat": 4,
  "nbformat_minor": 0,
  "metadata": {
    "colab": {
      "provenance": []
    },
    "kernelspec": {
      "name": "python3",
      "display_name": "Python 3"
    },
    "language_info": {
      "name": "python"
    }
  },
  "cells": [
    {
      "cell_type": "code",
      "execution_count": 1,
      "metadata": {
        "id": "8QGIAq3cIYKs"
      },
      "outputs": [],
      "source": [
        "x = [0, 1, 2, 3, 3, 5, 5, 5, 6, 7, 7, 10]\n",
        "y = [96, 85, 82, 74, 95, 68, 76, 84, 58, 65, 75, 50]"
      ]
    },
    {
      "cell_type": "code",
      "source": [
        "len(x)"
      ],
      "metadata": {
        "colab": {
          "base_uri": "https://localhost:8080/"
        },
        "id": "S2DwacAhI5z6",
        "outputId": "6f77e02d-3bb5-443d-b59b-9eb927ae844c"
      },
      "execution_count": 2,
      "outputs": [
        {
          "output_type": "execute_result",
          "data": {
            "text/plain": [
              "12"
            ]
          },
          "metadata": {},
          "execution_count": 2
        }
      ]
    },
    {
      "cell_type": "code",
      "source": [
        "len(y)"
      ],
      "metadata": {
        "colab": {
          "base_uri": "https://localhost:8080/"
        },
        "id": "P16qFdl3I70e",
        "outputId": "1f152507-bd29-453b-e08f-806ceebf2882"
      },
      "execution_count": 3,
      "outputs": [
        {
          "output_type": "execute_result",
          "data": {
            "text/plain": [
              "12"
            ]
          },
          "metadata": {},
          "execution_count": 3
        }
      ]
    },
    {
      "cell_type": "code",
      "source": [
        "n = len(x)"
      ],
      "metadata": {
        "id": "sl4GU8nNJzi3"
      },
      "execution_count": 8,
      "outputs": []
    },
    {
      "cell_type": "code",
      "source": [
        "sumX = 0\n",
        "for i in range(len(x)):\n",
        "    sumX += x[i]"
      ],
      "metadata": {
        "id": "HoTrQ29yI9rR"
      },
      "execution_count": 4,
      "outputs": []
    },
    {
      "cell_type": "code",
      "source": [
        "sumY = 0\n",
        "for i in range(len(y)):\n",
        "  sumY += y[i]"
      ],
      "metadata": {
        "id": "-8qqoEyWJIF4"
      },
      "execution_count": 5,
      "outputs": []
    },
    {
      "cell_type": "code",
      "source": [
        "sumXY = 0\n",
        "for i in range(len(y)):\n",
        "  sumXY += x[i]*y[i]"
      ],
      "metadata": {
        "id": "GnH4QUu7JRfz"
      },
      "execution_count": 6,
      "outputs": []
    },
    {
      "cell_type": "code",
      "source": [
        "sumX2 = 0\n",
        "for i in range(len(x)):\n",
        "  sumX2 += x[i]*x[i]"
      ],
      "metadata": {
        "id": "x6uWcffKJbtk"
      },
      "execution_count": 7,
      "outputs": []
    },
    {
      "cell_type": "code",
      "source": [
        "m = (n*sumXY - sumX*sumY)/(n*sumX2 - sumX*sumX)"
      ],
      "metadata": {
        "id": "m79VdZ3BJvPc"
      },
      "execution_count": 9,
      "outputs": []
    },
    {
      "cell_type": "code",
      "source": [
        "print(m)"
      ],
      "metadata": {
        "colab": {
          "base_uri": "https://localhost:8080/"
        },
        "id": "CjepFVNfKCh4",
        "outputId": "a04a742b-920c-4405-e140-7f2ad17f643e"
      },
      "execution_count": 10,
      "outputs": [
        {
          "output_type": "stream",
          "name": "stdout",
          "text": [
            "-4.067415730337078\n"
          ]
        }
      ]
    },
    {
      "cell_type": "code",
      "source": [
        "ybar = sumY / n"
      ],
      "metadata": {
        "id": "ZxLGTbjHKNQY"
      },
      "execution_count": 11,
      "outputs": []
    },
    {
      "cell_type": "code",
      "source": [
        "xbar = sumX / n"
      ],
      "metadata": {
        "id": "jHAQtAJyKVjS"
      },
      "execution_count": 12,
      "outputs": []
    },
    {
      "cell_type": "code",
      "source": [
        "c = ybar - m*xbar"
      ],
      "metadata": {
        "id": "PZEIrDB1KDn0"
      },
      "execution_count": 13,
      "outputs": []
    },
    {
      "cell_type": "code",
      "source": [
        "print(c)"
      ],
      "metadata": {
        "colab": {
          "base_uri": "https://localhost:8080/"
        },
        "id": "sz-ip3YTKhaY",
        "outputId": "4d3a346f-170d-4cbd-8638-0183ad5fea67"
      },
      "execution_count": 14,
      "outputs": [
        {
          "output_type": "stream",
          "name": "stdout",
          "text": [
            "93.97003745318352\n"
          ]
        }
      ]
    },
    {
      "cell_type": "code",
      "source": [
        "Xnew = float(input(\"Enter the number of hours you watched TV: \"))\n",
        "Ynew = m*Xnew + c\n",
        "print(\"The marks you can expect is: \", Ynew)"
      ],
      "metadata": {
        "colab": {
          "base_uri": "https://localhost:8080/"
        },
        "id": "KE5nUVuIKiTN",
        "outputId": "9f259d25-ce5b-48ff-afd6-a28213a286a8"
      },
      "execution_count": 18,
      "outputs": [
        {
          "output_type": "stream",
          "name": "stdout",
          "text": [
            "Enter the number of hours you watched TV: 9\n",
            "The marks you can expect is:  57.36329588014982\n"
          ]
        }
      ]
    }
  ]
}